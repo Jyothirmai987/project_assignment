{
  "nbformat": 4,
  "nbformat_minor": 0,
  "metadata": {
    "colab": {
      "provenance": [],
      "mount_file_id": "17vV7PYhV8kqRTtynoAgBlic4u1EkmRwh",
      "authorship_tag": "ABX9TyO8bJODj+mXWIekXMSNRA4P",
      "include_colab_link": true
    },
    "kernelspec": {
      "name": "python3",
      "display_name": "Python 3"
    },
    "language_info": {
      "name": "python"
    }
  },
  "cells": [
    {
      "cell_type": "markdown",
      "metadata": {
        "id": "view-in-github",
        "colab_type": "text"
      },
      "source": [
        "<a href=\"https://colab.research.google.com/github/Jyothirmai987/project_assignment/blob/main/cnn_py.ipynb\" target=\"_parent\"><img src=\"https://colab.research.google.com/assets/colab-badge.svg\" alt=\"Open In Colab\"/></a>"
      ]
    },
    {
      "cell_type": "code",
      "execution_count": null,
      "metadata": {
        "id": "glUwxldfuwwV"
      },
      "outputs": [],
      "source": [
        "import tensorflow as tf\n",
        "from tensorflow import keras\n",
        "import numpy as np\n",
        "import pandas as pd\n",
        "from matplotlib import pyplot as plt\n",
        "from tensorflow.keras import models,layers\n",
        "from tensorflow.keras.preprocessing import image\n",
        "from tensorflow.keras.preprocessing.image import img_to_array\n",
        "from google.colab import files\n",
        "from tensorflow.keras.models import load_model\n",
        "import json\n",
        "from types import SimpleNamespace\n"
      ]
    },
    {
      "cell_type": "code",
      "source": [
        "from google.colab import drive\n",
        "drive.mount('/content/drive')"
      ],
      "metadata": {
        "id": "1LrCvWN1haRg",
        "colab": {
          "base_uri": "https://localhost:8080/"
        },
        "outputId": "f096897c-0bf4-44da-bc11-deb8f5baaeb1"
      },
      "execution_count": 9,
      "outputs": [
        {
          "output_type": "stream",
          "name": "stdout",
          "text": [
            "Drive already mounted at /content/drive; to attempt to forcibly remount, call drive.mount(\"/content/drive\", force_remount=True).\n"
          ]
        }
      ]
    },
    {
      "cell_type": "code",
      "source": [
        "class CNN:\n",
        "    def pre_processing(self):\n",
        "        (self.x_train, self.y_train), (self.x_test, self.y_test) = keras.datasets.mnist.load_data()\n",
        "\n",
        "        # normalize it to 0-1\n",
        "        self.x_train = self.x_train / 255\n",
        "        self.x_test = self.x_test / 255\n",
        "        # converting 2d to 1d\n",
        "        # Assuming grayscale images\n",
        "        self.x_train = self.x_train.reshape((self.x_train.shape[0], 28, 28, 1))\n",
        "        self.x_test = self.x_test.reshape((self.x_test.shape[0], 28, 28, 1))\n",
        "\n",
        "    def cnn_model(self):\n",
        "        self.model = models.Sequential([\n",
        "            layers.Conv2D(filters=32, kernel_size=(3, 3), activation='relu', input_shape=(28, 28, 1)),\n",
        "            layers.MaxPooling2D((2, 2)),\n",
        "            layers.Conv2D(filters=64, kernel_size=(3, 3), activation='relu'),\n",
        "            layers.MaxPooling2D((2, 2)),\n",
        "            layers.Conv2D(filters=64, kernel_size=(3, 3), activation='relu'),\n",
        "            layers.MaxPooling2D((2, 2)),\n",
        "            layers.Flatten(),\n",
        "            layers.Dense(64, activation='relu'),\n",
        "            layers.Dense(10, activation='softmax')\n",
        "        ])\n",
        "    def load_config(self,path):\n",
        "      with open(path,'r') as f:\n",
        "        data=json.load(f)\n",
        "      self.config_obj=SimpleNamespace(**data)\n",
        "\n",
        "\n",
        "\n",
        "\n",
        "    def training(self):\n",
        "        self.model_checkpoint_callback = tf.keras.callbacks.ModelCheckpoint(\n",
        "                filepath=self.config_obj.path,\n",
        "                save_weights_only=True,\n",
        "                monitor='val_accuracy',\n",
        "                mode='max',\n",
        "                save_best_only=True)\n",
        "        self.model.compile(optimizer=self.config_obj.optimizer, loss=self.config_obj.loss, metrics=self.config_obj.metrics)\n",
        "        self.model.fit(self.x_train, self.y_train, epochs=int(self.config_obj.epochs), validation_data=(self.x_test, self.y_test),callbacks=[self.model_checkpoint_callback])\n",
        "        self.model.evaluate(self.x_test, self.y_test)\n",
        "\n",
        "        # Save the trained model\n",
        "        self.model.save(self.config_obj.model)\n",
        "obj = CNN()\n",
        "obj.pre_processing()\n",
        "obj.cnn_model()\n",
        "obj.load_config('/content/drive/MyDrive/project_assignment/config.json')\n",
        "obj.training()\n"
      ],
      "metadata": {
        "colab": {
          "base_uri": "https://localhost:8080/"
        },
        "id": "b0jvNKtd1Ird",
        "outputId": "b87f7f2b-e798-4f2e-8968-978d02e6d979"
      },
      "execution_count": 5,
      "outputs": [
        {
          "output_type": "stream",
          "name": "stdout",
          "text": [
            "1875/1875 [==============================] - 78s 41ms/step - loss: 0.2203 - accuracy: 0.9319 - val_loss: 0.0840 - val_accuracy: 0.9746\n",
            "313/313 [==============================] - 3s 9ms/step - loss: 0.0840 - accuracy: 0.9746\n"
          ]
        },
        {
          "output_type": "stream",
          "name": "stderr",
          "text": [
            "/usr/local/lib/python3.10/dist-packages/keras/src/engine/training.py:3079: UserWarning: You are saving your model as an HDF5 file via `model.save()`. This file format is considered legacy. We recommend using instead the native Keras format, e.g. `model.save('my_model.keras')`.\n",
            "  saving_api.save_model(\n"
          ]
        }
      ]
    },
    {
      "cell_type": "code",
      "source": [
        "\n",
        "\n",
        "class test_model:\n",
        "    def __init__(self):\n",
        "        self.model = None\n",
        "\n",
        "    def load_saved_model(self, model_path):\n",
        "        # Load the saved model\n",
        "        self.model = load_model(model_path)\n",
        "\n",
        "    def test_img(self, image_path):\n",
        "        # Load and preprocess the image\n",
        "        img = image.load_img(image_path, target_size=(28, 28), color_mode='grayscale')\n",
        "        img_array = img_to_array(img)\n",
        "        img_array /= 255.0\n",
        "        img_array = np.expand_dims(img_array, axis=0)\n",
        "\n",
        "        # Predict using the loaded model\n",
        "        y_pred = self.model.predict(img_array)\n",
        "\n",
        "        # Get the predicted label\n",
        "        predicted_label = np.argmax(y_pred)\n",
        "\n",
        "        return predicted_label\n",
        "obj = test_model()\n",
        "obj.load_saved_model(\"/content/mnist_cnn_model.h5\")\n",
        "predicted_label = obj.test_img('/content/drive/MyDrive/project_assignment/digit.jpg')\n",
        "print(\"Predicted Label:\", predicted_label)\n"
      ],
      "metadata": {
        "colab": {
          "base_uri": "https://localhost:8080/"
        },
        "id": "Hz2G7p2Q1uto",
        "outputId": "a68d1431-f04a-4e3d-ea57-d80d2b76b927"
      },
      "execution_count": 10,
      "outputs": [
        {
          "output_type": "stream",
          "name": "stdout",
          "text": [
            "1/1 [==============================] - 0s 168ms/step\n",
            "Predicted Label: 5\n"
          ]
        }
      ]
    },
    {
      "cell_type": "markdown",
      "source": [
        "# New Section"
      ],
      "metadata": {
        "id": "5ZOHeCDgNXOI"
      }
    },
    {
      "cell_type": "code",
      "source": [],
      "metadata": {
        "id": "0luaNoDx1IwW"
      },
      "execution_count": null,
      "outputs": []
    },
    {
      "cell_type": "code",
      "source": [
        "with open('/content/config.json','r') as f:\n",
        "  data=json.load(f)\n",
        "config_obj=SimpleNamespace(**data)"
      ],
      "metadata": {
        "id": "wRLnhC5O1Iyo"
      },
      "execution_count": null,
      "outputs": []
    },
    {
      "cell_type": "code",
      "source": [
        "config_obj.model"
      ],
      "metadata": {
        "colab": {
          "base_uri": "https://localhost:8080/",
          "height": 35
        },
        "id": "rv_CGvSp1I1S",
        "outputId": "d805e712-0bb4-4158-c086-5848741fb89b"
      },
      "execution_count": null,
      "outputs": [
        {
          "output_type": "execute_result",
          "data": {
            "text/plain": [
              "'mnist_cnn_model.h5'"
            ],
            "application/vnd.google.colaboratory.intrinsic+json": {
              "type": "string"
            }
          },
          "metadata": {},
          "execution_count": 32
        }
      ]
    },
    {
      "cell_type": "code",
      "source": [],
      "metadata": {
        "id": "Ep8Byk8E1I3t"
      },
      "execution_count": null,
      "outputs": []
    },
    {
      "cell_type": "code",
      "source": [],
      "metadata": {
        "id": "ShqGVb901I7E"
      },
      "execution_count": null,
      "outputs": []
    },
    {
      "cell_type": "code",
      "source": [
        "\n"
      ],
      "metadata": {
        "id": "XdAwRVkGan2k"
      },
      "execution_count": null,
      "outputs": []
    }
  ]
}